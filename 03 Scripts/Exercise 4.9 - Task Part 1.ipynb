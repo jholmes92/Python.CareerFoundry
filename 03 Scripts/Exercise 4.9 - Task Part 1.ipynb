{
 "cells": [
  {
   "cell_type": "markdown",
   "id": "526035b6",
   "metadata": {},
   "source": [
    "# Importing Libraries"
   ]
  },
  {
   "cell_type": "code",
   "execution_count": 1,
   "id": "54ea2335",
   "metadata": {},
   "outputs": [],
   "source": [
    "import pandas as pd\n",
    "import numpy as np\n",
    "import os\n",
    "import matplotlib.pyplot as plt\n",
    "import seaborn as sns\n",
    "import scipy"
   ]
  },
  {
   "cell_type": "code",
   "execution_count": 2,
   "id": "e54dd35c",
   "metadata": {},
   "outputs": [],
   "source": [
    "# define path\n",
    "path =r\"C:\\Users\\repla\\Documents\""
   ]
  },
  {
   "cell_type": "code",
   "execution_count": 4,
   "id": "cadbdf6a",
   "metadata": {},
   "outputs": [],
   "source": [
    "# Import Data\n",
    "ords_prods_merge = pd.read_csv(r\"C:\\Users\\repla\\Documents\\02 Data\\Original Data\\customers.csv\", index_col = False)"
   ]
  },
  {
   "cell_type": "code",
   "execution_count": 5,
   "id": "720214d1",
   "metadata": {},
   "outputs": [
    {
     "data": {
      "text/html": [
       "<div>\n",
       "<style scoped>\n",
       "    .dataframe tbody tr th:only-of-type {\n",
       "        vertical-align: middle;\n",
       "    }\n",
       "\n",
       "    .dataframe tbody tr th {\n",
       "        vertical-align: top;\n",
       "    }\n",
       "\n",
       "    .dataframe thead th {\n",
       "        text-align: right;\n",
       "    }\n",
       "</style>\n",
       "<table border=\"1\" class=\"dataframe\">\n",
       "  <thead>\n",
       "    <tr style=\"text-align: right;\">\n",
       "      <th></th>\n",
       "      <th>user_id</th>\n",
       "      <th>First Name</th>\n",
       "      <th>Surnam</th>\n",
       "      <th>Gender</th>\n",
       "      <th>STATE</th>\n",
       "      <th>Age</th>\n",
       "      <th>date_joined</th>\n",
       "      <th>n_dependants</th>\n",
       "      <th>fam_status</th>\n",
       "      <th>income</th>\n",
       "    </tr>\n",
       "  </thead>\n",
       "  <tbody>\n",
       "    <tr>\n",
       "      <th>0</th>\n",
       "      <td>26711</td>\n",
       "      <td>Deborah</td>\n",
       "      <td>Esquivel</td>\n",
       "      <td>Female</td>\n",
       "      <td>Missouri</td>\n",
       "      <td>48</td>\n",
       "      <td>1/1/2017</td>\n",
       "      <td>3</td>\n",
       "      <td>married</td>\n",
       "      <td>165665</td>\n",
       "    </tr>\n",
       "    <tr>\n",
       "      <th>1</th>\n",
       "      <td>33890</td>\n",
       "      <td>Patricia</td>\n",
       "      <td>Hart</td>\n",
       "      <td>Female</td>\n",
       "      <td>New Mexico</td>\n",
       "      <td>36</td>\n",
       "      <td>1/1/2017</td>\n",
       "      <td>0</td>\n",
       "      <td>single</td>\n",
       "      <td>59285</td>\n",
       "    </tr>\n",
       "    <tr>\n",
       "      <th>2</th>\n",
       "      <td>65803</td>\n",
       "      <td>Kenneth</td>\n",
       "      <td>Farley</td>\n",
       "      <td>Male</td>\n",
       "      <td>Idaho</td>\n",
       "      <td>35</td>\n",
       "      <td>1/1/2017</td>\n",
       "      <td>2</td>\n",
       "      <td>married</td>\n",
       "      <td>99568</td>\n",
       "    </tr>\n",
       "    <tr>\n",
       "      <th>3</th>\n",
       "      <td>125935</td>\n",
       "      <td>Michelle</td>\n",
       "      <td>Hicks</td>\n",
       "      <td>Female</td>\n",
       "      <td>Iowa</td>\n",
       "      <td>40</td>\n",
       "      <td>1/1/2017</td>\n",
       "      <td>0</td>\n",
       "      <td>single</td>\n",
       "      <td>42049</td>\n",
       "    </tr>\n",
       "    <tr>\n",
       "      <th>4</th>\n",
       "      <td>130797</td>\n",
       "      <td>Ann</td>\n",
       "      <td>Gilmore</td>\n",
       "      <td>Female</td>\n",
       "      <td>Maryland</td>\n",
       "      <td>26</td>\n",
       "      <td>1/1/2017</td>\n",
       "      <td>1</td>\n",
       "      <td>married</td>\n",
       "      <td>40374</td>\n",
       "    </tr>\n",
       "  </tbody>\n",
       "</table>\n",
       "</div>"
      ],
      "text/plain": [
       "   user_id First Name    Surnam  Gender       STATE  Age date_joined  \\\n",
       "0    26711    Deborah  Esquivel  Female    Missouri   48    1/1/2017   \n",
       "1    33890   Patricia      Hart  Female  New Mexico   36    1/1/2017   \n",
       "2    65803    Kenneth    Farley    Male       Idaho   35    1/1/2017   \n",
       "3   125935   Michelle     Hicks  Female        Iowa   40    1/1/2017   \n",
       "4   130797        Ann   Gilmore  Female    Maryland   26    1/1/2017   \n",
       "\n",
       "   n_dependants fam_status  income  \n",
       "0             3    married  165665  \n",
       "1             0     single   59285  \n",
       "2             2    married   99568  \n",
       "3             0     single   42049  \n",
       "4             1    married   40374  "
      ]
     },
     "execution_count": 5,
     "metadata": {},
     "output_type": "execute_result"
    }
   ],
   "source": [
    "ords_prods_merge.head()"
   ]
  },
  {
   "cell_type": "code",
   "execution_count": 6,
   "id": "576b1301",
   "metadata": {},
   "outputs": [
    {
     "data": {
      "text/plain": [
       "(206209, 10)"
      ]
     },
     "execution_count": 6,
     "metadata": {},
     "output_type": "execute_result"
    }
   ],
   "source": [
    "ords_prods_merge.shape"
   ]
  },
  {
   "cell_type": "code",
   "execution_count": 7,
   "id": "0d671584",
   "metadata": {},
   "outputs": [
    {
     "data": {
      "text/html": [
       "<div>\n",
       "<style scoped>\n",
       "    .dataframe tbody tr th:only-of-type {\n",
       "        vertical-align: middle;\n",
       "    }\n",
       "\n",
       "    .dataframe tbody tr th {\n",
       "        vertical-align: top;\n",
       "    }\n",
       "\n",
       "    .dataframe thead th {\n",
       "        text-align: right;\n",
       "    }\n",
       "</style>\n",
       "<table border=\"1\" class=\"dataframe\">\n",
       "  <thead>\n",
       "    <tr style=\"text-align: right;\">\n",
       "      <th></th>\n",
       "      <th>user_id</th>\n",
       "      <th>Age</th>\n",
       "      <th>n_dependants</th>\n",
       "      <th>income</th>\n",
       "    </tr>\n",
       "  </thead>\n",
       "  <tbody>\n",
       "    <tr>\n",
       "      <th>count</th>\n",
       "      <td>206209.000000</td>\n",
       "      <td>206209.000000</td>\n",
       "      <td>206209.000000</td>\n",
       "      <td>206209.000000</td>\n",
       "    </tr>\n",
       "    <tr>\n",
       "      <th>mean</th>\n",
       "      <td>103105.000000</td>\n",
       "      <td>49.501646</td>\n",
       "      <td>1.499823</td>\n",
       "      <td>94632.852548</td>\n",
       "    </tr>\n",
       "    <tr>\n",
       "      <th>std</th>\n",
       "      <td>59527.555167</td>\n",
       "      <td>18.480962</td>\n",
       "      <td>1.118433</td>\n",
       "      <td>42473.786988</td>\n",
       "    </tr>\n",
       "    <tr>\n",
       "      <th>min</th>\n",
       "      <td>1.000000</td>\n",
       "      <td>18.000000</td>\n",
       "      <td>0.000000</td>\n",
       "      <td>25903.000000</td>\n",
       "    </tr>\n",
       "    <tr>\n",
       "      <th>25%</th>\n",
       "      <td>51553.000000</td>\n",
       "      <td>33.000000</td>\n",
       "      <td>0.000000</td>\n",
       "      <td>59874.000000</td>\n",
       "    </tr>\n",
       "    <tr>\n",
       "      <th>50%</th>\n",
       "      <td>103105.000000</td>\n",
       "      <td>49.000000</td>\n",
       "      <td>1.000000</td>\n",
       "      <td>93547.000000</td>\n",
       "    </tr>\n",
       "    <tr>\n",
       "      <th>75%</th>\n",
       "      <td>154657.000000</td>\n",
       "      <td>66.000000</td>\n",
       "      <td>3.000000</td>\n",
       "      <td>124244.000000</td>\n",
       "    </tr>\n",
       "    <tr>\n",
       "      <th>max</th>\n",
       "      <td>206209.000000</td>\n",
       "      <td>81.000000</td>\n",
       "      <td>3.000000</td>\n",
       "      <td>593901.000000</td>\n",
       "    </tr>\n",
       "  </tbody>\n",
       "</table>\n",
       "</div>"
      ],
      "text/plain": [
       "             user_id            Age   n_dependants         income\n",
       "count  206209.000000  206209.000000  206209.000000  206209.000000\n",
       "mean   103105.000000      49.501646       1.499823   94632.852548\n",
       "std     59527.555167      18.480962       1.118433   42473.786988\n",
       "min         1.000000      18.000000       0.000000   25903.000000\n",
       "25%     51553.000000      33.000000       0.000000   59874.000000\n",
       "50%    103105.000000      49.000000       1.000000   93547.000000\n",
       "75%    154657.000000      66.000000       3.000000  124244.000000\n",
       "max    206209.000000      81.000000       3.000000  593901.000000"
      ]
     },
     "execution_count": 7,
     "metadata": {},
     "output_type": "execute_result"
    }
   ],
   "source": [
    "ords_prods_merge.describe()"
   ]
  },
  {
   "cell_type": "code",
   "execution_count": 8,
   "id": "f5ca869c",
   "metadata": {},
   "outputs": [],
   "source": [
    "#4\n",
    "ords_prods_merge['user_id'] = ords_prods_merge['user_id'].astype('str')"
   ]
  },
  {
   "cell_type": "code",
   "execution_count": 9,
   "id": "1ab6114f",
   "metadata": {},
   "outputs": [],
   "source": [
    "ords_prods_merge['date_joined'] = pd.to_datetime(ords_prods_merge['date_joined'])"
   ]
  },
  {
   "cell_type": "code",
   "execution_count": 10,
   "id": "966be9db",
   "metadata": {},
   "outputs": [
    {
     "name": "stdout",
     "output_type": "stream",
     "text": [
      "<class 'pandas.core.frame.DataFrame'>\n",
      "RangeIndex: 206209 entries, 0 to 206208\n",
      "Data columns (total 10 columns):\n",
      " #   Column        Non-Null Count   Dtype         \n",
      "---  ------        --------------   -----         \n",
      " 0   user_id       206209 non-null  object        \n",
      " 1   First Name    194950 non-null  object        \n",
      " 2   Surnam        206209 non-null  object        \n",
      " 3   Gender        206209 non-null  object        \n",
      " 4   STATE         206209 non-null  object        \n",
      " 5   Age           206209 non-null  int64         \n",
      " 6   date_joined   206209 non-null  datetime64[ns]\n",
      " 7   n_dependants  206209 non-null  int64         \n",
      " 8   fam_status    206209 non-null  object        \n",
      " 9   income        206209 non-null  int64         \n",
      "dtypes: datetime64[ns](1), int64(3), object(6)\n",
      "memory usage: 15.7+ MB\n"
     ]
    }
   ],
   "source": [
    "ords_prods_merge.info()"
   ]
  },
  {
   "cell_type": "code",
   "execution_count": 11,
   "id": "1afee198",
   "metadata": {},
   "outputs": [
    {
     "name": "stdout",
     "output_type": "stream",
     "text": [
      "First Name\n"
     ]
    }
   ],
   "source": [
    "#code to check for columns that have mixed data type\n",
    "for col in ords_prods_merge.columns.tolist():\n",
    "    weird = (ords_prods_merge[[col]].map(type) != ords_prods_merge[[col]].iloc[0].apply(type)).any(axis = 1)\n",
    "    \n",
    "    if len (ords_prods_merge[weird]) > 0:\n",
    "        print (col)"
   ]
  },
  {
   "cell_type": "code",
   "execution_count": 12,
   "id": "407bdfc1",
   "metadata": {},
   "outputs": [],
   "source": [
    "# casting first_name to string as its a mixed type\n",
    "ords_prods_merge['First Name'] = ords_prods_merge['First Name'].astype('str')"
   ]
  },
  {
   "cell_type": "code",
   "execution_count": 13,
   "id": "bfe3a24c",
   "metadata": {},
   "outputs": [],
   "source": [
    "#rename first name, surnam, gender, state and age\n",
    "ords_prods_merge.rename(columns={\"First Name\":\"first_name\", \"Surnam\":\"last_name\", \"Gender\":\"gender\", \"STATE\":\"state\",\n",
    "                            \"Age\":\"age\"}, inplace=True)"
   ]
  },
  {
   "cell_type": "code",
   "execution_count": 14,
   "id": "fc219223",
   "metadata": {},
   "outputs": [
    {
     "name": "stdout",
     "output_type": "stream",
     "text": [
      "<class 'pandas.core.frame.DataFrame'>\n",
      "RangeIndex: 206209 entries, 0 to 206208\n",
      "Data columns (total 10 columns):\n",
      " #   Column        Non-Null Count   Dtype         \n",
      "---  ------        --------------   -----         \n",
      " 0   user_id       206209 non-null  object        \n",
      " 1   first_name    206209 non-null  object        \n",
      " 2   last_name     206209 non-null  object        \n",
      " 3   gender        206209 non-null  object        \n",
      " 4   state         206209 non-null  object        \n",
      " 5   age           206209 non-null  int64         \n",
      " 6   date_joined   206209 non-null  datetime64[ns]\n",
      " 7   n_dependants  206209 non-null  int64         \n",
      " 8   fam_status    206209 non-null  object        \n",
      " 9   income        206209 non-null  int64         \n",
      "dtypes: datetime64[ns](1), int64(3), object(6)\n",
      "memory usage: 15.7+ MB\n"
     ]
    }
   ],
   "source": [
    "ords_prods_merge.info()"
   ]
  },
  {
   "cell_type": "code",
   "execution_count": 15,
   "id": "5b888a91",
   "metadata": {},
   "outputs": [
    {
     "data": {
      "text/plain": [
       "Index([], dtype='object')"
      ]
     },
     "execution_count": 15,
     "metadata": {},
     "output_type": "execute_result"
    }
   ],
   "source": [
    "#5\n",
    "ords_prods_merge.columns[ords_prods_merge.isnull().any()]"
   ]
  },
  {
   "cell_type": "code",
   "execution_count": 16,
   "id": "70b2c973",
   "metadata": {},
   "outputs": [
    {
     "data": {
      "text/plain": [
       "0"
      ]
     },
     "execution_count": 16,
     "metadata": {},
     "output_type": "execute_result"
    }
   ],
   "source": [
    "ords_prods_merge['first_name'].isnull().sum()"
   ]
  },
  {
   "cell_type": "code",
   "execution_count": 17,
   "id": "ab6a1d18",
   "metadata": {},
   "outputs": [
    {
     "data": {
      "text/plain": [
       "income\n",
       "57192     10\n",
       "95891     10\n",
       "95710     10\n",
       "97532      9\n",
       "98675      9\n",
       "          ..\n",
       "73141      1\n",
       "71524      1\n",
       "74408      1\n",
       "44780      1\n",
       "148828     1\n",
       "Name: count, Length: 108012, dtype: int64"
      ]
     },
     "execution_count": 17,
     "metadata": {},
     "output_type": "execute_result"
    }
   ],
   "source": [
    "ords_prods_merge['income'].value_counts(dropna=False, sort=True)"
   ]
  },
  {
   "cell_type": "code",
   "execution_count": 18,
   "id": "be4274ae",
   "metadata": {},
   "outputs": [
    {
     "data": {
      "text/plain": [
       "gender\n",
       "Male      104067\n",
       "Female    102142\n",
       "Name: count, dtype: int64"
      ]
     },
     "execution_count": 18,
     "metadata": {},
     "output_type": "execute_result"
    }
   ],
   "source": [
    "ords_prods_merge['gender'].value_counts(dropna=False)"
   ]
  },
  {
   "cell_type": "code",
   "execution_count": 19,
   "id": "48450592",
   "metadata": {},
   "outputs": [
    {
     "data": {
      "text/plain": [
       "51"
      ]
     },
     "execution_count": 19,
     "metadata": {},
     "output_type": "execute_result"
    }
   ],
   "source": [
    "ords_prods_merge['state'].nunique()"
   ]
  },
  {
   "cell_type": "code",
   "execution_count": 20,
   "id": "4c6bfaea",
   "metadata": {},
   "outputs": [
    {
     "data": {
      "text/plain": [
       "state\n",
       "Florida                 4044\n",
       "Colorado                4044\n",
       "Illinois                4044\n",
       "Alabama                 4044\n",
       "District of Columbia    4044\n",
       "Hawaii                  4044\n",
       "Arizona                 4044\n",
       "Connecticut             4044\n",
       "California              4044\n",
       "Indiana                 4044\n",
       "Arkansas                4044\n",
       "Alaska                  4044\n",
       "Delaware                4044\n",
       "Iowa                    4044\n",
       "Idaho                   4044\n",
       "Georgia                 4044\n",
       "Wyoming                 4043\n",
       "Mississippi             4043\n",
       "Oklahoma                4043\n",
       "Utah                    4043\n",
       "New Hampshire           4043\n",
       "Kentucky                4043\n",
       "Maryland                4043\n",
       "Rhode Island            4043\n",
       "Massachusetts           4043\n",
       "Michigan                4043\n",
       "New Jersey              4043\n",
       "Kansas                  4043\n",
       "South Dakota            4043\n",
       "Minnesota               4043\n",
       "Tennessee               4043\n",
       "New York                4043\n",
       "Washington              4043\n",
       "Louisiana               4043\n",
       "Montana                 4043\n",
       "North Dakota            4043\n",
       "Wisconsin               4043\n",
       "Nebraska                4043\n",
       "Vermont                 4043\n",
       "Nevada                  4043\n",
       "Maine                   4043\n",
       "North Carolina          4043\n",
       "West Virginia           4043\n",
       "Virginia                4043\n",
       "Oregon                  4043\n",
       "New Mexico              4043\n",
       "Texas                   4043\n",
       "Pennsylvania            4043\n",
       "Ohio                    4043\n",
       "South Carolina          4043\n",
       "Missouri                4043\n",
       "Name: count, dtype: int64"
      ]
     },
     "execution_count": 20,
     "metadata": {},
     "output_type": "execute_result"
    }
   ],
   "source": [
    "# list all states to check for duplicates and error names.\n",
    "ords_prods_merge['state'].value_counts(dropna=False)"
   ]
  },
  {
   "cell_type": "code",
   "execution_count": 21,
   "id": "69e15c8f",
   "metadata": {},
   "outputs": [
    {
     "data": {
      "text/plain": [
       "count    206209.000000\n",
       "mean         49.501646\n",
       "std          18.480962\n",
       "min          18.000000\n",
       "25%          33.000000\n",
       "50%          49.000000\n",
       "75%          66.000000\n",
       "max          81.000000\n",
       "Name: age, dtype: float64"
      ]
     },
     "execution_count": 21,
     "metadata": {},
     "output_type": "execute_result"
    }
   ],
   "source": [
    "ords_prods_merge['age'].describe()"
   ]
  },
  {
   "cell_type": "code",
   "execution_count": 22,
   "id": "b24fd7bb",
   "metadata": {},
   "outputs": [
    {
     "data": {
      "text/plain": [
       "age\n",
       "19    3329\n",
       "55    3317\n",
       "51    3317\n",
       "56    3306\n",
       "32    3305\n",
       "      ... \n",
       "65    3145\n",
       "25    3127\n",
       "66    3114\n",
       "50    3102\n",
       "36    3101\n",
       "Name: count, Length: 64, dtype: int64"
      ]
     },
     "execution_count": 22,
     "metadata": {},
     "output_type": "execute_result"
    }
   ],
   "source": [
    "#checking for any null values or odd ages\n",
    "ords_prods_merge['age'].value_counts()"
   ]
  },
  {
   "cell_type": "code",
   "execution_count": 23,
   "id": "7236f25e",
   "metadata": {},
   "outputs": [
    {
     "data": {
      "text/plain": [
       "Timestamp('2017-01-01 00:00:00')"
      ]
     },
     "execution_count": 23,
     "metadata": {},
     "output_type": "execute_result"
    }
   ],
   "source": [
    "#min value\n",
    "ords_prods_merge['date_joined'].min()"
   ]
  },
  {
   "cell_type": "code",
   "execution_count": 24,
   "id": "1bb4fb5f",
   "metadata": {},
   "outputs": [
    {
     "data": {
      "text/plain": [
       "Timestamp('2020-04-01 00:00:00')"
      ]
     },
     "execution_count": 24,
     "metadata": {},
     "output_type": "execute_result"
    }
   ],
   "source": [
    "#max value\n",
    "ords_prods_merge['date_joined'].max()"
   ]
  },
  {
   "cell_type": "code",
   "execution_count": 25,
   "id": "161b8d29",
   "metadata": {},
   "outputs": [
    {
     "data": {
      "text/plain": [
       "date_joined\n",
       "2017-01-01    159\n",
       "2017-01-02    154\n",
       "2017-01-03    169\n",
       "2017-01-04    188\n",
       "2017-01-05    177\n",
       "             ... \n",
       "2020-03-28    197\n",
       "2020-03-29    171\n",
       "2020-03-30    165\n",
       "2020-03-31    149\n",
       "2020-04-01    169\n",
       "Name: count, Length: 1187, dtype: int64"
      ]
     },
     "execution_count": 25,
     "metadata": {},
     "output_type": "execute_result"
    }
   ],
   "source": [
    "#value counts\n",
    "ords_prods_merge['date_joined'].value_counts(dropna=False, sort=False)"
   ]
  },
  {
   "cell_type": "code",
   "execution_count": 26,
   "id": "cae3fe5b",
   "metadata": {},
   "outputs": [
    {
     "data": {
      "text/plain": [
       "n_dependants\n",
       "0    51602\n",
       "3    51594\n",
       "1    51531\n",
       "2    51482\n",
       "Name: count, dtype: int64"
      ]
     },
     "execution_count": 26,
     "metadata": {},
     "output_type": "execute_result"
    }
   ],
   "source": [
    "# value counts of n_dependants\n",
    "ords_prods_merge['n_dependants'].value_counts(dropna=False)"
   ]
  },
  {
   "cell_type": "code",
   "execution_count": 28,
   "id": "dc29211e",
   "metadata": {},
   "outputs": [
    {
     "data": {
      "text/plain": [
       "<Axes: xlabel='# of dependants', ylabel='Frequency'>"
      ]
     },
     "execution_count": 28,
     "metadata": {},
     "output_type": "execute_result"
    },
    {
     "data": {
      "image/png": "[encoded data removed]",
      "text/plain": [
       "<Figure size 640x480 with 1 Axes>"
      ]
     },
     "metadata": {},
     "output_type": "display_data"
    }
   ],
   "source": [
    "ords_prods_merge['n_dependants'].value_counts(dropna=True).sort_index().plot.bar(color=['orange'], ylabel='Frequency', \n",
    "                                xlabel='# of dependants')"
   ]
  },
  {
   "cell_type": "code",
   "execution_count": 29,
   "id": "113e8545",
   "metadata": {},
   "outputs": [
    {
     "data": {
      "text/plain": [
       "fam_status\n",
       "married                             144906\n",
       "single                               33962\n",
       "divorced/widowed                     17640\n",
       "living with parents and siblings      9701\n",
       "Name: count, dtype: int64"
      ]
     },
     "execution_count": 29,
     "metadata": {},
     "output_type": "execute_result"
    }
   ],
   "source": [
    "ords_prods_merge['fam_status'].value_counts(dropna=False)"
   ]
  },
  {
   "cell_type": "code",
   "execution_count": 30,
   "id": "7cf11565",
   "metadata": {},
   "outputs": [
    {
     "data": {
      "text/plain": [
       "count    206209.000000\n",
       "mean      94632.852548\n",
       "std       42473.786988\n",
       "min       25903.000000\n",
       "25%       59874.000000\n",
       "50%       93547.000000\n",
       "75%      124244.000000\n",
       "max      593901.000000\n",
       "Name: income, dtype: float64"
      ]
     },
     "execution_count": 30,
     "metadata": {},
     "output_type": "execute_result"
    }
   ],
   "source": [
    "ords_prods_merge['income'].describe()"
   ]
  },
  {
   "cell_type": "code",
   "execution_count": 31,
   "id": "3e419fc0",
   "metadata": {},
   "outputs": [
    {
     "data": {
      "text/plain": [
       "93547.0"
      ]
     },
     "execution_count": 31,
     "metadata": {},
     "output_type": "execute_result"
    }
   ],
   "source": [
    "ords_prods_merge['income'].median()"
   ]
  },
  {
   "cell_type": "code",
   "execution_count": 32,
   "id": "ee167167",
   "metadata": {},
   "outputs": [],
   "source": [
    "ords_prods_merge_income = ords_prods_merge[ords_prods_merge['income'] > 300000]"
   ]
  },
  {
   "cell_type": "code",
   "execution_count": 33,
   "id": "ea92be4f",
   "metadata": {},
   "outputs": [
    {
     "data": {
      "text/html": [
       "<div>\n",
       "<style scoped>\n",
       "    .dataframe tbody tr th:only-of-type {\n",
       "        vertical-align: middle;\n",
       "    }\n",
       "\n",
       "    .dataframe tbody tr th {\n",
       "        vertical-align: top;\n",
       "    }\n",
       "\n",
       "    .dataframe thead th {\n",
       "        text-align: right;\n",
       "    }\n",
       "</style>\n",
       "<table border=\"1\" class=\"dataframe\">\n",
       "  <thead>\n",
       "    <tr style=\"text-align: right;\">\n",
       "      <th></th>\n",
       "      <th>user_id</th>\n",
       "      <th>first_name</th>\n",
       "      <th>last_name</th>\n",
       "      <th>gender</th>\n",
       "      <th>state</th>\n",
       "      <th>age</th>\n",
       "      <th>date_joined</th>\n",
       "      <th>n_dependants</th>\n",
       "      <th>fam_status</th>\n",
       "      <th>income</th>\n",
       "    </tr>\n",
       "  </thead>\n",
       "  <tbody>\n",
       "    <tr>\n",
       "      <th>979</th>\n",
       "      <td>200930</td>\n",
       "      <td>Charles</td>\n",
       "      <td>Nichols</td>\n",
       "      <td>Male</td>\n",
       "      <td>South Carolina</td>\n",
       "      <td>60</td>\n",
       "      <td>2017-01-06</td>\n",
       "      <td>1</td>\n",
       "      <td>married</td>\n",
       "      <td>300913</td>\n",
       "    </tr>\n",
       "    <tr>\n",
       "      <th>86870</th>\n",
       "      <td>71498</td>\n",
       "      <td>Gloria</td>\n",
       "      <td>Stafford</td>\n",
       "      <td>Female</td>\n",
       "      <td>Virginia</td>\n",
       "      <td>69</td>\n",
       "      <td>2018-05-14</td>\n",
       "      <td>3</td>\n",
       "      <td>married</td>\n",
       "      <td>302234</td>\n",
       "    </tr>\n",
       "    <tr>\n",
       "      <th>138764</th>\n",
       "      <td>151552</td>\n",
       "      <td>Mark</td>\n",
       "      <td>Neal</td>\n",
       "      <td>Male</td>\n",
       "      <td>Oklahoma</td>\n",
       "      <td>71</td>\n",
       "      <td>2019-03-11</td>\n",
       "      <td>1</td>\n",
       "      <td>married</td>\n",
       "      <td>302363</td>\n",
       "    </tr>\n",
       "    <tr>\n",
       "      <th>47787</th>\n",
       "      <td>205650</td>\n",
       "      <td>Jeremy</td>\n",
       "      <td>Vang</td>\n",
       "      <td>Male</td>\n",
       "      <td>Kentucky</td>\n",
       "      <td>62</td>\n",
       "      <td>2017-10-02</td>\n",
       "      <td>0</td>\n",
       "      <td>divorced/widowed</td>\n",
       "      <td>302526</td>\n",
       "    </tr>\n",
       "    <tr>\n",
       "      <th>58395</th>\n",
       "      <td>77541</td>\n",
       "      <td>Kimberly</td>\n",
       "      <td>Anderson</td>\n",
       "      <td>Female</td>\n",
       "      <td>Montana</td>\n",
       "      <td>25</td>\n",
       "      <td>2017-12-03</td>\n",
       "      <td>2</td>\n",
       "      <td>married</td>\n",
       "      <td>302561</td>\n",
       "    </tr>\n",
       "    <tr>\n",
       "      <th>...</th>\n",
       "      <td>...</td>\n",
       "      <td>...</td>\n",
       "      <td>...</td>\n",
       "      <td>...</td>\n",
       "      <td>...</td>\n",
       "      <td>...</td>\n",
       "      <td>...</td>\n",
       "      <td>...</td>\n",
       "      <td>...</td>\n",
       "      <td>...</td>\n",
       "    </tr>\n",
       "    <tr>\n",
       "      <th>167037</th>\n",
       "      <td>189861</td>\n",
       "      <td>Pamela</td>\n",
       "      <td>Jordan</td>\n",
       "      <td>Female</td>\n",
       "      <td>Pennsylvania</td>\n",
       "      <td>47</td>\n",
       "      <td>2019-08-21</td>\n",
       "      <td>0</td>\n",
       "      <td>single</td>\n",
       "      <td>584097</td>\n",
       "    </tr>\n",
       "    <tr>\n",
       "      <th>111950</th>\n",
       "      <td>187680</td>\n",
       "      <td>Catherine</td>\n",
       "      <td>Church</td>\n",
       "      <td>Female</td>\n",
       "      <td>Wyoming</td>\n",
       "      <td>43</td>\n",
       "      <td>2018-10-07</td>\n",
       "      <td>2</td>\n",
       "      <td>married</td>\n",
       "      <td>590790</td>\n",
       "    </tr>\n",
       "    <tr>\n",
       "      <th>81583</th>\n",
       "      <td>103702</td>\n",
       "      <td>Kathryn</td>\n",
       "      <td>Mclaughlin</td>\n",
       "      <td>Female</td>\n",
       "      <td>Louisiana</td>\n",
       "      <td>55</td>\n",
       "      <td>2018-04-14</td>\n",
       "      <td>3</td>\n",
       "      <td>married</td>\n",
       "      <td>591089</td>\n",
       "    </tr>\n",
       "    <tr>\n",
       "      <th>202655</th>\n",
       "      <td>98580</td>\n",
       "      <td>nan</td>\n",
       "      <td>Patterson</td>\n",
       "      <td>Male</td>\n",
       "      <td>Washington</td>\n",
       "      <td>43</td>\n",
       "      <td>2020-03-12</td>\n",
       "      <td>2</td>\n",
       "      <td>married</td>\n",
       "      <td>592409</td>\n",
       "    </tr>\n",
       "    <tr>\n",
       "      <th>21726</th>\n",
       "      <td>58596</td>\n",
       "      <td>Thomas</td>\n",
       "      <td>Cohen</td>\n",
       "      <td>Male</td>\n",
       "      <td>Washington</td>\n",
       "      <td>75</td>\n",
       "      <td>2017-05-06</td>\n",
       "      <td>2</td>\n",
       "      <td>married</td>\n",
       "      <td>593901</td>\n",
       "    </tr>\n",
       "  </tbody>\n",
       "</table>\n",
       "<p>382 rows × 10 columns</p>\n",
       "</div>"
      ],
      "text/plain": [
       "       user_id first_name   last_name  gender           state  age  \\\n",
       "979     200930    Charles     Nichols    Male  South Carolina   60   \n",
       "86870    71498     Gloria    Stafford  Female        Virginia   69   \n",
       "138764  151552       Mark        Neal    Male        Oklahoma   71   \n",
       "47787   205650     Jeremy        Vang    Male        Kentucky   62   \n",
       "58395    77541   Kimberly    Anderson  Female         Montana   25   \n",
       "...        ...        ...         ...     ...             ...  ...   \n",
       "167037  189861     Pamela      Jordan  Female    Pennsylvania   47   \n",
       "111950  187680  Catherine      Church  Female         Wyoming   43   \n",
       "81583   103702    Kathryn  Mclaughlin  Female       Louisiana   55   \n",
       "202655   98580        nan   Patterson    Male      Washington   43   \n",
       "21726    58596     Thomas       Cohen    Male      Washington   75   \n",
       "\n",
       "       date_joined  n_dependants        fam_status  income  \n",
       "979     2017-01-06             1           married  300913  \n",
       "86870   2018-05-14             3           married  302234  \n",
       "138764  2019-03-11             1           married  302363  \n",
       "47787   2017-10-02             0  divorced/widowed  302526  \n",
       "58395   2017-12-03             2           married  302561  \n",
       "...            ...           ...               ...     ...  \n",
       "167037  2019-08-21             0            single  584097  \n",
       "111950  2018-10-07             2           married  590790  \n",
       "81583   2018-04-14             3           married  591089  \n",
       "202655  2020-03-12             2           married  592409  \n",
       "21726   2017-05-06             2           married  593901  \n",
       "\n",
       "[382 rows x 10 columns]"
      ]
     },
     "execution_count": 33,
     "metadata": {},
     "output_type": "execute_result"
    }
   ],
   "source": [
    "ords_prods_merge_income.sort_values(by='income', ascending=True, )"
   ]
  },
  {
   "cell_type": "code",
   "execution_count": 34,
   "id": "cc598200",
   "metadata": {},
   "outputs": [],
   "source": [
    "opm_dups = ords_prods_merge[ords_prods_merge.duplicated()]"
   ]
  },
  {
   "cell_type": "code",
   "execution_count": 35,
   "id": "c94976a4",
   "metadata": {},
   "outputs": [
    {
     "data": {
      "text/plain": [
       "(0, 10)"
      ]
     },
     "execution_count": 35,
     "metadata": {},
     "output_type": "execute_result"
    }
   ],
   "source": [
    "opm_dups.shape"
   ]
  },
  {
   "cell_type": "code",
   "execution_count": 36,
   "id": "6429033c",
   "metadata": {},
   "outputs": [],
   "source": [
    "#6\n",
    "df_opm = pd.read_pickle(r\"C:\\Users\\repla\\Documents\\02 Data\\Prepared Data\\orders_products_merged4.8.pkl\")"
   ]
  },
  {
   "cell_type": "code",
   "execution_count": 37,
   "id": "e1aaeba4",
   "metadata": {},
   "outputs": [
    {
     "data": {
      "text/plain": [
       "(1000000, 25)"
      ]
     },
     "execution_count": 37,
     "metadata": {},
     "output_type": "execute_result"
    }
   ],
   "source": [
    "df_opm.shape"
   ]
  },
  {
   "cell_type": "code",
   "execution_count": 38,
   "id": "1ae2123b",
   "metadata": {},
   "outputs": [],
   "source": [
    "df_opm['prices'] = df_opm['prices'].astype('float32')"
   ]
  },
  {
   "cell_type": "code",
   "execution_count": 39,
   "id": "971e83c1",
   "metadata": {},
   "outputs": [],
   "source": [
    "df_opm['mean_expenses'] = df_opm['prices'].astype('float32')"
   ]
  },
  {
   "cell_type": "code",
   "execution_count": 40,
   "id": "0470ca5b",
   "metadata": {},
   "outputs": [
    {
     "name": "stdout",
     "output_type": "stream",
     "text": [
      "<class 'pandas.core.frame.DataFrame'>\n",
      "RangeIndex: 1000000 entries, 0 to 999999\n",
      "Data columns (total 26 columns):\n",
      " #   Column                  Non-Null Count    Dtype   \n",
      "---  ------                  --------------    -----   \n",
      " 0   product_id              1000000 non-null  int64   \n",
      " 1   product_name            1000000 non-null  object  \n",
      " 2   aisle_id                1000000 non-null  int64   \n",
      " 3   department_id           1000000 non-null  int64   \n",
      " 4   prices                  1000000 non-null  float32 \n",
      " 5   order_id                1000000 non-null  int64   \n",
      " 6   user_id                 1000000 non-null  int64   \n",
      " 7   order_number            1000000 non-null  int64   \n",
      " 8   orders_day_of_week      1000000 non-null  int64   \n",
      " 9   time_of_order           1000000 non-null  int64   \n",
      " 10  days_since_prior_order  933795 non-null   float64 \n",
      " 11  add_to_cart_order       1000000 non-null  int64   \n",
      " 12  reordered               1000000 non-null  int64   \n",
      " 13  _merge                  1000000 non-null  category\n",
      " 14  price_range             1000000 non-null  object  \n",
      " 15  price_range_loc         1000000 non-null  object  \n",
      " 16  busiest_day             1000000 non-null  object  \n",
      " 17  busiest_days            1000000 non-null  object  \n",
      " 18  busiest_period_of_day   1000000 non-null  object  \n",
      " 19  max_order               1000000 non-null  int64   \n",
      " 20  loyalty_flag            1000000 non-null  object  \n",
      " 21  average_price           1000000 non-null  float64 \n",
      " 22  spending_flag           1000000 non-null  object  \n",
      " 23  median_orders           991808 non-null   float64 \n",
      " 24  order_frequency_flag    991808 non-null   object  \n",
      " 25  mean_expenses           1000000 non-null  float32 \n",
      "dtypes: category(1), float32(2), float64(3), int64(11), object(9)\n",
      "memory usage: 184.1+ MB\n"
     ]
    }
   ],
   "source": [
    "df_opm.info()"
   ]
  },
  {
   "cell_type": "code",
   "execution_count": 41,
   "id": "69921ea8",
   "metadata": {},
   "outputs": [],
   "source": [
    "df_opm.drop(columns=['_merge'], inplace=True)"
   ]
  },
  {
   "cell_type": "code",
   "execution_count": 45,
   "id": "90f9d68f",
   "metadata": {},
   "outputs": [
    {
     "name": "stdout",
     "output_type": "stream",
     "text": [
      "<class 'pandas.core.frame.DataFrame'>\n",
      "RangeIndex: 1000000 entries, 0 to 999999\n",
      "Data columns (total 25 columns):\n",
      " #   Column                  Non-Null Count    Dtype  \n",
      "---  ------                  --------------    -----  \n",
      " 0   product_id              1000000 non-null  int64  \n",
      " 1   product_name            1000000 non-null  object \n",
      " 2   aisle_id                1000000 non-null  int64  \n",
      " 3   department_id           1000000 non-null  int64  \n",
      " 4   prices                  1000000 non-null  float32\n",
      " 5   order_id                1000000 non-null  int64  \n",
      " 6   user_id                 1000000 non-null  object \n",
      " 7   order_number            1000000 non-null  int64  \n",
      " 8   orders_day_of_week      1000000 non-null  int64  \n",
      " 9   time_of_order           1000000 non-null  int64  \n",
      " 10  days_since_prior_order  933795 non-null   float64\n",
      " 11  add_to_cart_order       1000000 non-null  int64  \n",
      " 12  reordered               1000000 non-null  int64  \n",
      " 13  price_range             1000000 non-null  object \n",
      " 14  price_range_loc         1000000 non-null  object \n",
      " 15  busiest_day             1000000 non-null  object \n",
      " 16  busiest_days            1000000 non-null  object \n",
      " 17  busiest_period_of_day   1000000 non-null  object \n",
      " 18  max_order               1000000 non-null  int64  \n",
      " 19  loyalty_flag            1000000 non-null  object \n",
      " 20  average_price           1000000 non-null  float64\n",
      " 21  spending_flag           1000000 non-null  object \n",
      " 22  median_orders           991808 non-null   float64\n",
      " 23  order_frequency_flag    991808 non-null   object \n",
      " 24  mean_expenses           1000000 non-null  float32\n",
      "dtypes: float32(2), float64(3), int64(10), object(10)\n",
      "memory usage: 183.1+ MB\n"
     ]
    }
   ],
   "source": [
    "df_opm.info()"
   ]
  },
  {
   "cell_type": "code",
   "execution_count": 44,
   "id": "0cadd980",
   "metadata": {},
   "outputs": [],
   "source": [
    "df_opm['user_id'] = df_opm['user_id'].astype('str')"
   ]
  },
  {
   "cell_type": "code",
   "execution_count": 46,
   "id": "4cb2f85a",
   "metadata": {},
   "outputs": [],
   "source": [
    "# merge with customers using user_id\n",
    "df_opm_cust_left = df_opm.merge(ords_prods_merge, on=['user_id'], indicator=True)"
   ]
  },
  {
   "cell_type": "code",
   "execution_count": 47,
   "id": "22b3183e",
   "metadata": {},
   "outputs": [
    {
     "data": {
      "text/plain": [
       "_merge\n",
       "both          1000000\n",
       "left_only           0\n",
       "right_only          0\n",
       "Name: count, dtype: int64"
      ]
     },
     "execution_count": 47,
     "metadata": {},
     "output_type": "execute_result"
    }
   ],
   "source": [
    "df_opm_cust_left['_merge'].value_counts(dropna=False)"
   ]
  },
  {
   "cell_type": "code",
   "execution_count": 48,
   "id": "174ae52f",
   "metadata": {},
   "outputs": [
    {
     "data": {
      "text/plain": [
       "(1000000, 35)"
      ]
     },
     "execution_count": 48,
     "metadata": {},
     "output_type": "execute_result"
    }
   ],
   "source": [
    "df_opm_cust_left.shape"
   ]
  },
  {
   "cell_type": "code",
   "execution_count": 49,
   "id": "43068b75",
   "metadata": {},
   "outputs": [],
   "source": [
    "df_opm_cust_left.drop(columns=['_merge'], inplace=True)"
   ]
  },
  {
   "cell_type": "code",
   "execution_count": 50,
   "id": "15560d4f",
   "metadata": {},
   "outputs": [
    {
     "name": "stdout",
     "output_type": "stream",
     "text": [
      "<class 'pandas.core.frame.DataFrame'>\n",
      "RangeIndex: 1000000 entries, 0 to 999999\n",
      "Data columns (total 34 columns):\n",
      " #   Column                  Non-Null Count    Dtype         \n",
      "---  ------                  --------------    -----         \n",
      " 0   product_id              1000000 non-null  int64         \n",
      " 1   product_name            1000000 non-null  object        \n",
      " 2   aisle_id                1000000 non-null  int64         \n",
      " 3   department_id           1000000 non-null  int64         \n",
      " 4   prices                  1000000 non-null  float32       \n",
      " 5   order_id                1000000 non-null  int64         \n",
      " 6   user_id                 1000000 non-null  object        \n",
      " 7   order_number            1000000 non-null  int64         \n",
      " 8   orders_day_of_week      1000000 non-null  int64         \n",
      " 9   time_of_order           1000000 non-null  int64         \n",
      " 10  days_since_prior_order  933795 non-null   float64       \n",
      " 11  add_to_cart_order       1000000 non-null  int64         \n",
      " 12  reordered               1000000 non-null  int64         \n",
      " 13  price_range             1000000 non-null  object        \n",
      " 14  price_range_loc         1000000 non-null  object        \n",
      " 15  busiest_day             1000000 non-null  object        \n",
      " 16  busiest_days            1000000 non-null  object        \n",
      " 17  busiest_period_of_day   1000000 non-null  object        \n",
      " 18  max_order               1000000 non-null  int64         \n",
      " 19  loyalty_flag            1000000 non-null  object        \n",
      " 20  average_price           1000000 non-null  float64       \n",
      " 21  spending_flag           1000000 non-null  object        \n",
      " 22  median_orders           991808 non-null   float64       \n",
      " 23  order_frequency_flag    991808 non-null   object        \n",
      " 24  mean_expenses           1000000 non-null  float32       \n",
      " 25  first_name              1000000 non-null  object        \n",
      " 26  last_name               1000000 non-null  object        \n",
      " 27  gender                  1000000 non-null  object        \n",
      " 28  state                   1000000 non-null  object        \n",
      " 29  age                     1000000 non-null  int64         \n",
      " 30  date_joined             1000000 non-null  datetime64[ns]\n",
      " 31  n_dependants            1000000 non-null  int64         \n",
      " 32  fam_status              1000000 non-null  object        \n",
      " 33  income                  1000000 non-null  int64         \n",
      "dtypes: datetime64[ns](1), float32(2), float64(3), int64(13), object(15)\n",
      "memory usage: 251.8+ MB\n"
     ]
    }
   ],
   "source": [
    "df_opm_cust_left.info()"
   ]
  },
  {
   "cell_type": "code",
   "execution_count": 52,
   "id": "e6725b48",
   "metadata": {},
   "outputs": [],
   "source": [
    "#8\n",
    "df_opm_cust_left.to_pickle(os.path.join(path, '02 Data', 'Prepared Data', 'orders_products_merged4.9.part1.pkl'))"
   ]
  },
  {
   "cell_type": "code",
   "execution_count": null,
   "id": "cf4bf6e6",
   "metadata": {},
   "outputs": [],
   "source": []
  }
 ],
 "metadata": {
  "kernelspec": {
   "display_name": "Python 3 (ipykernel)",
   "language": "python",
   "name": "python3"
  },
  "language_info": {
   "codemirror_mode": {
    "name": "ipython",
    "version": 3
   },
   "file_extension": ".py",
   "mimetype": "text/x-python",
   "name": "python",
   "nbconvert_exporter": "python",
   "pygments_lexer": "ipython3",
   "version": "3.11.5"
  }
 },
 "nbformat": 4,
 "nbformat_minor": 5
}
